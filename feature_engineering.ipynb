{
 "cells": [
  {
   "cell_type": "code",
   "execution_count": null,
   "metadata": {},
   "outputs": [],
   "source": []
  },
  {
   "cell_type": "code",
   "execution_count": null,
   "metadata": {},
   "outputs": [],
   "source": [
    "from nltk.stem import WordNetLemmatizer\n",
    "from nltk.stem import PorterStemmer\n",
    "def preprocess_text(x):\n",
    "    if type(x) != str: return(x)\n",
    "    x = x.lower()\n",
    "    lemmatizer = WordNetLemmatizer()\n",
    "    porter_stemmer = PorterStemmer()\n",
    "    x = \" \".join([lemmatizer.lemmatize(word) for word in x.split()])\n",
    "    x = \" \".join([porter_stemmer.stem(word) for word in x.split()])\n",
    "    return x\n",
    "    \n",
    "data['Review Text'] = data['Review Text'].apply(lambda x : preprocess_text(x))"
   ]
  }
 ],
 "metadata": {
  "interpreter": {
   "hash": "40d3a090f54c6569ab1632332b64b2c03c39dcf918b08424e98f38b5ae0af88f"
  },
  "kernelspec": {
   "display_name": "Python 3.8.8 64-bit ('base': conda)",
   "language": "python",
   "name": "python3"
  },
  "language_info": {
   "codemirror_mode": {
    "name": "ipython",
    "version": 3
   },
   "file_extension": ".py",
   "mimetype": "text/x-python",
   "name": "python",
   "nbconvert_exporter": "python",
   "pygments_lexer": "ipython3",
   "version": "3.8.8"
  },
  "orig_nbformat": 4
 },
 "nbformat": 4,
 "nbformat_minor": 2
}
